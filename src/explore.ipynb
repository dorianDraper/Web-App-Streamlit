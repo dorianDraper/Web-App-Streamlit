{
    "cells": [
        {
            "cell_type": "markdown",
            "metadata": {},
            "source": [
                "# Exploring ML Webapp using Streamlit"
            ]
        },
        {
            "cell_type": "code",
            "execution_count": null,
            "metadata": {},
            "outputs": [],
            "source": [
                "# Now we want to create a streamlit app to use the model we just created to predict if a URL is spam or not\n",
                "# We will create a file called app.py to create the app\n",
                "# We will use the following libraries: streamlit, pandas, pickle\n",
                "# We will load the model and the vectorizer we just created\n",
                "# We will create a function to preprocess the URL\n",
                "# We will create a function to predict if the URL is spam or not\n",
                "# We will create the app interface\n",
                "# We will run the app\n",
                "#\n",
                "# The app.py file is in the same folder as this file\n",
                "# To run the app, we need to open the terminal and run the following command:\n",
                "# streamlit run app.py\n",
                "# The app will open in the browser\n",
                "# We can enter a URL and the app will tell us if it is spam or not\n",
                "# We can test the model with the URLs we used before\n",
                "# We can also test the model with other URLs to see if it is spam or not\n",
                "# The app will show us the result\n",
                "# provide the code for this\n",
                "\n",
                "\n",
                "import streamlit as st \n",
                "import pandas as pd\n",
                "from pickle import load\n",
                "\n",
                "def preprocess_url(url):\n",
                "    url = re.sub(r'[^a-z ]', \" \", url)\n",
                "    url = re.sub(r'\\s+[a-zA-Z]\\s+', \" \", url)\n",
                "    url = re.sub(r'\\^[a-zA-Z]\\s+', \" \", url)\n",
                "    url = re.sub(r'\\s+', \" \", url.lower())\n",
                "    url = re.sub(\"&lt;/?.*?&gt;\",\" &lt;&gt; \", url)\n",
                "    return url.split()\n",
                "\n",
                "def lemmatize_text(words, lemmatizer = lemmatizer):\n",
                "    tokens = [lemmatizer.lemmatize(word) for word in words]\n",
                "    tokens = [word for word in tokens if word not in stop_words]\n",
                "    tokens = [word for word in tokens if len(word) > 3]\n",
                "    return tokens\n",
                "\n",
                "def predict_spam(url):\n",
                "    url = preprocess_url(url)\n",
                "    url = lemmatize_text(url)\n",
                "    url = [\" \".join(url)]\n",
                "    url = vectorizer.transform(url).toarray()\n",
                "    prediction = model2.predict(url)\n",
                "    return prediction\n",
                "\n",
                "model = load(open('C:/Users/Jorge Payà/Desktop/4Geeks/DSML Bootcamp/Web-App-Streamlit/models/spam_url_detector_svc_C-1_deg-2_gam-scale_ker-poly_42.sav', 'rb'))\n",
                "vectorizer = load(open('C:/Users/Jorge Payà/Desktop/4Geeks/DSML Bootcamp/Web-App-Streamlit/models/vectorizer_42.sav', 'rb'))\n",
                "\n",
                "st.title(\"URL Spam Detector\")\n",
                "url = st.text_input(\"Enter a URL:\")\n",
                "if st.button(\"Predict\"):\n",
                "    prediction = predict_spam(url)\n",
                "    if prediction == 1:\n",
                "        st.write(\"This URL is spam\")\n",
                "    else:\n",
                "        st.write(\"This URL is not spam\")\n",
                "\n",
                "# The app is ready to use\n",
                "# We can enter a URL and the app will tell us if it is spam or not\n",
                "# We can test the model with the URLs we used before\n",
                "# We can also test the model with other URLs to see if it is spam or not\n",
                "# The app will show us the result"
            ]
        }
    ],
    "metadata": {
        "kernelspec": {
            "display_name": "Python 3.8.13 64-bit ('3.8.13')",
            "language": "python",
            "name": "python3"
        },
        "language_info": {
            "codemirror_mode": {
                "name": "ipython",
                "version": 3
            },
            "file_extension": ".py",
            "mimetype": "text/x-python",
            "name": "python",
            "nbconvert_exporter": "python",
            "pygments_lexer": "ipython3",
            "version": "3.11.3"
        },
        "orig_nbformat": 4,
        "vscode": {
            "interpreter": {
                "hash": "110cc1dee26208153f2972f08a2ad52b6a56238dc66d48e87fb757ef2996db56"
            }
        }
    },
    "nbformat": 4,
    "nbformat_minor": 2
}
